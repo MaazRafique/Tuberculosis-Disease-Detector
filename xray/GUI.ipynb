{
 "cells": [
  {
   "cell_type": "code",
   "execution_count": 2,
   "metadata": {},
   "outputs": [],
   "source": [
    "def analyze(impath):\n",
    "    image = cv2.imread(impath)\n",
    "    orig = image.copy()\n",
    "    image = cv2.resize(image, (64, 64))\n",
    "    image = image.astype(\"float\") / 255.0\n",
    "    image = img_to_array(image)\n",
    "    image = np.expand_dims(image, axis=0)\n",
    "    model = load_model(\"./models/weights.h5\")\n",
    "    (l1, l2) = model.predict(image)[0]\n",
    "    if l1 > l2 :\n",
    "        label = \"0\"\n",
    "    elif l2 > l1:\n",
    "        label = \"1\"\n",
    "    if l1 > l2 :\n",
    "        proba = l1\n",
    "    elif l2 > l1 :\n",
    "        proba = l2\n",
    "    print (\"Label 1 : \",l1,\" Label 2 : \",l2)\n",
    "    print (\"Label : \",label,\" % : \",proba)\n",
    "    return label,proba"
   ]
  },
  {
   "cell_type": "code",
   "execution_count": 3,
   "metadata": {},
   "outputs": [
    {
     "name": "stderr",
     "output_type": "stream",
     "text": [
      "Using TensorFlow backend.\n",
      "C:\\Users\\Mazz\\anaconda3\\lib\\site-packages\\tensorflow\\python\\framework\\dtypes.py:516: FutureWarning: Passing (type, 1) or '1type' as a synonym of type is deprecated; in a future version of numpy, it will be understood as (type, (1,)) / '(1,)type'.\n",
      "  _np_qint8 = np.dtype([(\"qint8\", np.int8, 1)])\n",
      "C:\\Users\\Mazz\\anaconda3\\lib\\site-packages\\tensorflow\\python\\framework\\dtypes.py:517: FutureWarning: Passing (type, 1) or '1type' as a synonym of type is deprecated; in a future version of numpy, it will be understood as (type, (1,)) / '(1,)type'.\n",
      "  _np_quint8 = np.dtype([(\"quint8\", np.uint8, 1)])\n",
      "C:\\Users\\Mazz\\anaconda3\\lib\\site-packages\\tensorflow\\python\\framework\\dtypes.py:518: FutureWarning: Passing (type, 1) or '1type' as a synonym of type is deprecated; in a future version of numpy, it will be understood as (type, (1,)) / '(1,)type'.\n",
      "  _np_qint16 = np.dtype([(\"qint16\", np.int16, 1)])\n",
      "C:\\Users\\Mazz\\anaconda3\\lib\\site-packages\\tensorflow\\python\\framework\\dtypes.py:519: FutureWarning: Passing (type, 1) or '1type' as a synonym of type is deprecated; in a future version of numpy, it will be understood as (type, (1,)) / '(1,)type'.\n",
      "  _np_quint16 = np.dtype([(\"quint16\", np.uint16, 1)])\n",
      "C:\\Users\\Mazz\\anaconda3\\lib\\site-packages\\tensorflow\\python\\framework\\dtypes.py:520: FutureWarning: Passing (type, 1) or '1type' as a synonym of type is deprecated; in a future version of numpy, it will be understood as (type, (1,)) / '(1,)type'.\n",
      "  _np_qint32 = np.dtype([(\"qint32\", np.int32, 1)])\n",
      "C:\\Users\\Mazz\\anaconda3\\lib\\site-packages\\tensorflow\\python\\framework\\dtypes.py:525: FutureWarning: Passing (type, 1) or '1type' as a synonym of type is deprecated; in a future version of numpy, it will be understood as (type, (1,)) / '(1,)type'.\n",
      "  np_resource = np.dtype([(\"resource\", np.ubyte, 1)])\n",
      "C:\\Users\\Mazz\\anaconda3\\lib\\site-packages\\tensorboard\\compat\\tensorflow_stub\\dtypes.py:541: FutureWarning: Passing (type, 1) or '1type' as a synonym of type is deprecated; in a future version of numpy, it will be understood as (type, (1,)) / '(1,)type'.\n",
      "  _np_qint8 = np.dtype([(\"qint8\", np.int8, 1)])\n",
      "C:\\Users\\Mazz\\anaconda3\\lib\\site-packages\\tensorboard\\compat\\tensorflow_stub\\dtypes.py:542: FutureWarning: Passing (type, 1) or '1type' as a synonym of type is deprecated; in a future version of numpy, it will be understood as (type, (1,)) / '(1,)type'.\n",
      "  _np_quint8 = np.dtype([(\"quint8\", np.uint8, 1)])\n",
      "C:\\Users\\Mazz\\anaconda3\\lib\\site-packages\\tensorboard\\compat\\tensorflow_stub\\dtypes.py:543: FutureWarning: Passing (type, 1) or '1type' as a synonym of type is deprecated; in a future version of numpy, it will be understood as (type, (1,)) / '(1,)type'.\n",
      "  _np_qint16 = np.dtype([(\"qint16\", np.int16, 1)])\n",
      "C:\\Users\\Mazz\\anaconda3\\lib\\site-packages\\tensorboard\\compat\\tensorflow_stub\\dtypes.py:544: FutureWarning: Passing (type, 1) or '1type' as a synonym of type is deprecated; in a future version of numpy, it will be understood as (type, (1,)) / '(1,)type'.\n",
      "  _np_quint16 = np.dtype([(\"quint16\", np.uint16, 1)])\n",
      "C:\\Users\\Mazz\\anaconda3\\lib\\site-packages\\tensorboard\\compat\\tensorflow_stub\\dtypes.py:545: FutureWarning: Passing (type, 1) or '1type' as a synonym of type is deprecated; in a future version of numpy, it will be understood as (type, (1,)) / '(1,)type'.\n",
      "  _np_qint32 = np.dtype([(\"qint32\", np.int32, 1)])\n",
      "C:\\Users\\Mazz\\anaconda3\\lib\\site-packages\\tensorboard\\compat\\tensorflow_stub\\dtypes.py:550: FutureWarning: Passing (type, 1) or '1type' as a synonym of type is deprecated; in a future version of numpy, it will be understood as (type, (1,)) / '(1,)type'.\n",
      "  np_resource = np.dtype([(\"resource\", np.ubyte, 1)])\n"
     ]
    },
    {
     "name": "stdout",
     "output_type": "stream",
     "text": [
      "Starting to Analyze Xray C:/Users/Mazz/Documents/xray-20190928T115326Z-001/xray/xray_model/test/0/MCUCXR_0001_0.png\n"
     ]
    },
    {
     "name": "stderr",
     "output_type": "stream",
     "text": [
      "Exception in Tkinter callback\n",
      "Traceback (most recent call last):\n",
      "  File \"C:\\Users\\Mazz\\anaconda3\\lib\\tkinter\\__init__.py\", line 1705, in __call__\n",
      "    return self.func(*args)\n",
      "  File \"<ipython-input-3-ca90e5da9b53>\", line 27, in xray_button\n",
      "    l,p=analyze(name)\n",
      "  File \"<ipython-input-2-87abca9f705a>\", line 8, in analyze\n",
      "    model = load_model(\"./models/weights.h5\")\n",
      "  File \"C:\\Users\\Mazz\\anaconda3\\lib\\site-packages\\keras\\engine\\saving.py\", line 492, in load_wrapper\n",
      "    return load_function(*args, **kwargs)\n",
      "  File \"C:\\Users\\Mazz\\anaconda3\\lib\\site-packages\\keras\\engine\\saving.py\", line 584, in load_model\n",
      "    model = _deserialize_model(h5dict, custom_objects, compile)\n",
      "  File \"C:\\Users\\Mazz\\anaconda3\\lib\\site-packages\\keras\\engine\\saving.py\", line 270, in _deserialize_model\n",
      "    model_config = h5dict['model_config']\n",
      "  File \"C:\\Users\\Mazz\\anaconda3\\lib\\site-packages\\keras\\utils\\io_utils.py\", line 318, in __getitem__\n",
      "    raise ValueError('Cannot create group in read-only mode.')\n",
      "ValueError: Cannot create group in read-only mode.\n"
     ]
    },
    {
     "name": "stdout",
     "output_type": "stream",
     "text": [
      "Starting to Analyze Xray C:/Users/Mazz/Documents/xray-20190928T115326Z-001/xray/xray_model/test/0/MCUCXR_0001_0.png\n"
     ]
    },
    {
     "name": "stderr",
     "output_type": "stream",
     "text": [
      "Exception in Tkinter callback\n",
      "Traceback (most recent call last):\n",
      "  File \"C:\\Users\\Mazz\\anaconda3\\lib\\tkinter\\__init__.py\", line 1705, in __call__\n",
      "    return self.func(*args)\n",
      "  File \"<ipython-input-3-ca90e5da9b53>\", line 27, in xray_button\n",
      "    l,p=analyze(name)\n",
      "  File \"<ipython-input-2-87abca9f705a>\", line 8, in analyze\n",
      "    model = load_model(\"./models/weights.h5\")\n",
      "  File \"C:\\Users\\Mazz\\anaconda3\\lib\\site-packages\\keras\\engine\\saving.py\", line 492, in load_wrapper\n",
      "    return load_function(*args, **kwargs)\n",
      "  File \"C:\\Users\\Mazz\\anaconda3\\lib\\site-packages\\keras\\engine\\saving.py\", line 584, in load_model\n",
      "    model = _deserialize_model(h5dict, custom_objects, compile)\n",
      "  File \"C:\\Users\\Mazz\\anaconda3\\lib\\site-packages\\keras\\engine\\saving.py\", line 270, in _deserialize_model\n",
      "    model_config = h5dict['model_config']\n",
      "  File \"C:\\Users\\Mazz\\anaconda3\\lib\\site-packages\\keras\\utils\\io_utils.py\", line 318, in __getitem__\n",
      "    raise ValueError('Cannot create group in read-only mode.')\n",
      "ValueError: Cannot create group in read-only mode.\n"
     ]
    },
    {
     "name": "stdout",
     "output_type": "stream",
     "text": [
      "Starting to Analyze Xray C:/Users/Mazz/Documents/xray-20190928T115326Z-001/xray/xray_model/test/1/CHNCXR_0329_1.png\n"
     ]
    },
    {
     "name": "stderr",
     "output_type": "stream",
     "text": [
      "Exception in Tkinter callback\n",
      "Traceback (most recent call last):\n",
      "  File \"C:\\Users\\Mazz\\anaconda3\\lib\\tkinter\\__init__.py\", line 1705, in __call__\n",
      "    return self.func(*args)\n",
      "  File \"<ipython-input-3-ca90e5da9b53>\", line 27, in xray_button\n",
      "    l,p=analyze(name)\n",
      "  File \"<ipython-input-2-87abca9f705a>\", line 8, in analyze\n",
      "    model = load_model(\"./models/weights.h5\")\n",
      "  File \"C:\\Users\\Mazz\\anaconda3\\lib\\site-packages\\keras\\engine\\saving.py\", line 492, in load_wrapper\n",
      "    return load_function(*args, **kwargs)\n",
      "  File \"C:\\Users\\Mazz\\anaconda3\\lib\\site-packages\\keras\\engine\\saving.py\", line 584, in load_model\n",
      "    model = _deserialize_model(h5dict, custom_objects, compile)\n",
      "  File \"C:\\Users\\Mazz\\anaconda3\\lib\\site-packages\\keras\\engine\\saving.py\", line 270, in _deserialize_model\n",
      "    model_config = h5dict['model_config']\n",
      "  File \"C:\\Users\\Mazz\\anaconda3\\lib\\site-packages\\keras\\utils\\io_utils.py\", line 318, in __getitem__\n",
      "    raise ValueError('Cannot create group in read-only mode.')\n",
      "ValueError: Cannot create group in read-only mode.\n"
     ]
    },
    {
     "name": "stdout",
     "output_type": "stream",
     "text": [
      "Starting to Analyze Xray C:/Users/Mazz/Documents/xray-20190928T115326Z-001/xray/xray_model/test/1/CHNCXR_0329_1.png\n"
     ]
    },
    {
     "name": "stderr",
     "output_type": "stream",
     "text": [
      "Exception in Tkinter callback\n",
      "Traceback (most recent call last):\n",
      "  File \"C:\\Users\\Mazz\\anaconda3\\lib\\tkinter\\__init__.py\", line 1705, in __call__\n",
      "    return self.func(*args)\n",
      "  File \"<ipython-input-3-ca90e5da9b53>\", line 27, in xray_button\n",
      "    l,p=analyze(name)\n",
      "  File \"<ipython-input-2-87abca9f705a>\", line 8, in analyze\n",
      "    model = load_model(\"./models/weights.h5\")\n",
      "  File \"C:\\Users\\Mazz\\anaconda3\\lib\\site-packages\\keras\\engine\\saving.py\", line 492, in load_wrapper\n",
      "    return load_function(*args, **kwargs)\n",
      "  File \"C:\\Users\\Mazz\\anaconda3\\lib\\site-packages\\keras\\engine\\saving.py\", line 584, in load_model\n",
      "    model = _deserialize_model(h5dict, custom_objects, compile)\n",
      "  File \"C:\\Users\\Mazz\\anaconda3\\lib\\site-packages\\keras\\engine\\saving.py\", line 270, in _deserialize_model\n",
      "    model_config = h5dict['model_config']\n",
      "  File \"C:\\Users\\Mazz\\anaconda3\\lib\\site-packages\\keras\\utils\\io_utils.py\", line 318, in __getitem__\n",
      "    raise ValueError('Cannot create group in read-only mode.')\n",
      "ValueError: Cannot create group in read-only mode.\n"
     ]
    }
   ],
   "source": [
    "################### libraries\n",
    "from keras.preprocessing.image import img_to_array\n",
    "from keras.models import load_model\n",
    "import numpy as np\n",
    "import argparse\n",
    "import imutils\n",
    "import cv2\n",
    "from tkinter import *\n",
    "from tkinter import filedialog\n",
    "from PIL import ImageTk, Image\n",
    "from tkinter.filedialog import askopenfilename\n",
    "\n",
    "################### user functions definetions\n",
    "def browse_button():\n",
    "    global name\n",
    "    name = askopenfilename(filetypes =((\"Image File\", \"*.\"),(\"All Files\",\"*.*\")),\n",
    "                           title = \"Choose a file.\")\n",
    "    im=Image.open(name)\n",
    "    im=im.resize((320,240),Image.ANTIALIAS)\n",
    "    img = ImageTk.PhotoImage(im)\n",
    "    imgwin.config(image = img)\n",
    "    imgwin.image=img\n",
    "    \n",
    "def xray_button():\n",
    "    global name\n",
    "    print(\"Starting to Analyze Xray\", name)\n",
    "    l,p=analyze(name)\n",
    "    print(type(l))\n",
    "    if l==\"0\":\n",
    "        t=\"Xray Analyzed Successfully\\n\"+ str(100-(p*100))+\"% Normal \\n \"+ str(p*100)+\" % TB \"\n",
    "    else:\n",
    "        t=\"Xray Analyzed Successfully\\n\"+ str(p*100)+\"% Normal \\n \"+ str(100-(p*100))+\" % TB \"\n",
    "        \n",
    "    text.config(text=t)\n",
    "    \n",
    "    #########\n",
    "################### MAIN CODE\n",
    "root = Tk()\n",
    "form = Frame(root)\n",
    "form.grid()\n",
    "root.title(\"Xray Test\")\n",
    "\n",
    "browse = Button(form,height =1,width=6, text = \"Browse\",bg=\"orange\",command=browse_button)\n",
    "browse.grid(row = 1, column = 0,padx=10,pady=10)\n",
    "\n",
    "back = Label(form,width=80,height=15)\n",
    "back.grid(row = 2, column = 0,padx=10, pady = 10)\n",
    "\n",
    "imgwin = Label(form)\n",
    "imgwin.grid(row = 2, column = 0,padx=10, pady = 10)\n",
    "\n",
    "ipt = Button(form,height =1,width=20, text = \"Start Analyze Xray\",bg=\"orange\",command=xray_button)\n",
    "ipt.grid(row = 3, column = 0,padx=10,pady=10)\n",
    "\n",
    "text = Label(form,width=100,height=5,text=\"Xray Analyzed Successfully\\n 83% Normal \\n 17% TB\",font=\"15\")\n",
    "text.grid(row = 4, column = 0,padx=10, pady = 10)\n",
    "\n",
    "root.mainloop()"
   ]
  },
  {
   "cell_type": "code",
   "execution_count": null,
   "metadata": {},
   "outputs": [],
   "source": []
  }
 ],
 "metadata": {
  "kernelspec": {
   "display_name": "Python 3",
   "language": "python",
   "name": "python3"
  },
  "language_info": {
   "codemirror_mode": {
    "name": "ipython",
    "version": 3
   },
   "file_extension": ".py",
   "mimetype": "text/x-python",
   "name": "python",
   "nbconvert_exporter": "python",
   "pygments_lexer": "ipython3",
   "version": "3.7.6"
  }
 },
 "nbformat": 4,
 "nbformat_minor": 2
}
